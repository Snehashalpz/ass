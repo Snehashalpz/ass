{
 "cells": [
  {
   "cell_type": "markdown",
   "id": "0f265b65",
   "metadata": {},
   "source": [
    "# CHALLENGE 3 -->> Impement the complete student class\n"
   ]
  },
  {
   "cell_type": "code",
   "execution_count": 1,
   "id": "e4c10ad9",
   "metadata": {},
   "outputs": [
    {
     "name": "stdout",
     "output_type": "stream",
     "text": [
      "I got this NAME by using set and get method: Sneha Aravind\n",
      "I got this ROLL NUMBER by using set and get method: 2701\n"
     ]
    }
   ],
   "source": [
    "#implement the complete student class by completing the task below\n",
    "\n",
    "class students: \n",
    "    \n",
    "    \n",
    "    def set_name(self,name):\n",
    "        self.__name = name\n",
    "    \n",
    "    def get_name(self):\n",
    "        return self.__name\n",
    "    \n",
    "    def set_roll_number(self,roll_number):\n",
    "        self.__roll_number = roll_number\n",
    "        \n",
    "    def get_roll_number(self):\n",
    "        return self.__roll_number\n",
    "       \n",
    "    \n",
    "stud = students()\n",
    "\n",
    "stud.set_name(\"Sneha Aravind\")\n",
    "stud.set_roll_number(2701)\n",
    "\n",
    "name = stud.get_name()\n",
    "print(\"I got this NAME by using set and get method:\",name)\n",
    "\n",
    "rollNumber = stud.get_roll_number()\n",
    "print(\"I got this ROLL NUMBER by using set and get method:\",rollNumber)"
   ]
  },
  {
   "cell_type": "code",
   "execution_count": null,
   "id": "13085970",
   "metadata": {},
   "outputs": [],
   "source": []
  }
 ],
 "metadata": {
  "kernelspec": {
   "display_name": "Python 3 (ipykernel)",
   "language": "python",
   "name": "python3"
  },
  "language_info": {
   "codemirror_mode": {
    "name": "ipython",
    "version": 3
   },
   "file_extension": ".py",
   "mimetype": "text/x-python",
   "name": "python",
   "nbconvert_exporter": "python",
   "pygments_lexer": "ipython3",
   "version": "3.10.9"
  }
 },
 "nbformat": 4,
 "nbformat_minor": 5
}
