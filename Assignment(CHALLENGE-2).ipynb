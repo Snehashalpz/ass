{
 "cells": [
  {
   "cell_type": "markdown",
   "id": "e1c1838b",
   "metadata": {},
   "source": [
    "# CHALLLENGE 2---->> Implement a calculator Class"
   ]
  },
  {
   "cell_type": "code",
   "execution_count": 1,
   "id": "7aa57078",
   "metadata": {},
   "outputs": [
    {
     "name": "stdout",
     "output_type": "stream",
     "text": [
      "The addition of two num is: 104\n",
      "The subtraction of two num is: 84\n",
      "The multiplication of two num is: 940\n",
      "The division of two num is: 9.4\n"
     ]
    }
   ],
   "source": [
    "#write  a python class called calculator by completing the tase\n",
    "\n",
    "class calculator:\n",
    "    \n",
    "    def __init__(self,num1,num2):\n",
    "        self.num1 = num1\n",
    "        self.num2 = num2\n",
    "        \n",
    "    def addition(self):\n",
    "        return self.num1 + self.num2\n",
    "    \n",
    "    def subtraction(self):\n",
    "        return self.num2 - self.num1\n",
    "    \n",
    "    def multiplication(self):\n",
    "        return self.num1 * self.num2\n",
    "    \n",
    "    def division(self):\n",
    "        return self.num2 / self.num1\n",
    "    \n",
    "    \n",
    "obj = calculator(10,94)\n",
    "\n",
    "addition = obj.addition()\n",
    "print(\"The addition of two num is:\",addition)\n",
    "\n",
    "subtraction = obj.subtraction()\n",
    "print(\"The subtraction of two num is:\",subtraction)\n",
    "\n",
    "multiplication = obj.multiplication()\n",
    "print(\"The multiplication of two num is:\",multiplication)\n",
    "\n",
    "division = obj.division()\n",
    "print(\"The division of two num is:\",division)\n",
    "\n",
    "\n",
    "        \n",
    "    "
   ]
  },
  {
   "cell_type": "code",
   "execution_count": null,
   "id": "4b24f8f4",
   "metadata": {},
   "outputs": [],
   "source": []
  }
 ],
 "metadata": {
  "kernelspec": {
   "display_name": "Python 3 (ipykernel)",
   "language": "python",
   "name": "python3"
  },
  "language_info": {
   "codemirror_mode": {
    "name": "ipython",
    "version": 3
   },
   "file_extension": ".py",
   "mimetype": "text/x-python",
   "name": "python",
   "nbconvert_exporter": "python",
   "pygments_lexer": "ipython3",
   "version": "3.10.9"
  }
 },
 "nbformat": 4,
 "nbformat_minor": 5
}
