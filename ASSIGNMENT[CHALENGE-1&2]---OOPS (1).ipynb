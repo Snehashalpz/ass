{
 "cells": [
  {
   "cell_type": "markdown",
   "id": "00a75ce8",
   "metadata": {},
   "source": [
    "# CHALLENGE-1-->>(square numbers and return their sum)"
   ]
  },
  {
   "cell_type": "code",
   "execution_count": 1,
   "id": "d0a76a04",
   "metadata": {},
   "outputs": [
    {
     "name": "stdout",
     "output_type": "stream",
     "text": [
      "the square numbers and their sum is: 35\n"
     ]
    }
   ],
   "source": [
    "#challenge1: square numbers and thier  sum\n",
    "\n",
    "class point:\n",
    "    def __init__(self,x,y,z):\n",
    "        self.x = x\n",
    "        self.y = y\n",
    "        self.z = z\n",
    "        \n",
    "    def sqSum(self):\n",
    "        print(\"the square numbers and their sum is:\",self.x**2+self.y**2+self.z**2)\n",
    "        \n",
    "        \n",
    "obj=point(1,3,5)\n",
    "obj.sqSum()"
   ]
  },
  {
   "cell_type": "code",
   "execution_count": null,
   "id": "f585250e",
   "metadata": {},
   "outputs": [],
   "source": []
  }
 ],
 "metadata": {
  "kernelspec": {
   "display_name": "Python 3 (ipykernel)",
   "language": "python",
   "name": "python3"
  },
  "language_info": {
   "codemirror_mode": {
    "name": "ipython",
    "version": 3
   },
   "file_extension": ".py",
   "mimetype": "text/x-python",
   "name": "python",
   "nbconvert_exporter": "python",
   "pygments_lexer": "ipython3",
   "version": "3.10.9"
  }
 },
 "nbformat": 4,
 "nbformat_minor": 5
}
